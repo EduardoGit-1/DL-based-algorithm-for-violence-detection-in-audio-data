{
 "cells": [
  {
   "cell_type": "code",
   "execution_count": 2,
   "metadata": {},
   "outputs": [
    {
     "name": "stdout",
     "output_type": "stream",
     "text": [
      "D:\\Projects\\shared_repo\\data_preparation\\metadata_preprocessing\\results\\dataset_san_3win_3step.csv\n"
     ]
    }
   ],
   "source": [
    "import pandas as pd\n",
    "import numpy as np\n",
    "import matplotlib.pyplot as plt\n",
    "from sklearn.model_selection import train_test_split\n",
    "plt.rcParams[\"figure.figsize\"] = (20,10)\n",
    "plt.rcParams[\"font.family\"] = \"sans-serif\"\n",
    "DATASET_DIR = r\"D:\\Projects\\shared_repo\\data_preparation\\metadata_preprocessing\\results\\dataset_san_3win_3step.csv\"\n",
    "print(DATASET_DIR)"
   ]
  },
  {
   "cell_type": "code",
   "execution_count": 8,
   "metadata": {},
   "outputs": [
    {
     "data": {
      "text/plain": [
       "0    43652\n",
       "1    15158\n",
       "Name: LabelID, dtype: int64"
      ]
     },
     "execution_count": 8,
     "metadata": {},
     "output_type": "execute_result"
    }
   ],
   "source": [
    "df = pd.read_csv(DATASET_DIR, index_col=0)\n",
    "df_train, df_val = train_test_split(df,\n",
    "                                        stratify=df[\"LabelID\"],\n",
    "                                        test_size=0.2,\n",
    "                                        random_state=407)\n",
    "df_train[\"LabelID\"].value_counts()"
   ]
  },
  {
   "cell_type": "code",
   "execution_count": 9,
   "metadata": {},
   "outputs": [
    {
     "data": {
      "text/plain": [
       "0    10913\n",
       "1     3790\n",
       "Name: LabelID, dtype: int64"
      ]
     },
     "execution_count": 9,
     "metadata": {},
     "output_type": "execute_result"
    }
   ],
   "source": [
    "df_val[\"LabelID\"].value_counts()"
   ]
  },
  {
   "cell_type": "code",
   "execution_count": 5,
   "metadata": {},
   "outputs": [],
   "source": [
    "# ax = df.Label.value_counts().sort_values().plot(kind = 'bar')\n",
    "# ax.spines['top'].set_visible(False)\n",
    "# ax.spines['right'].set_visible(False)\n",
    "# ax.spines['left'].set_visible(False)\n",
    "# ax.spines['bottom'].set_color('#DDDDDD')\n",
    "\n",
    "# ax.tick_params(bottom=False, left=False)\n",
    "\n",
    "# ax.set_axisbelow(True)\n",
    "# ax.yaxis.grid(True, color='#EEEEEE')\n",
    "# ax.xaxis.grid(False)\n",
    "# ax.set_title('Label distribution', fontsize=25)\n",
    "# ax.set_ylabel('Label count', fontsize=18)\n",
    "# plt.xticks(rotation=0, fontsize = 18)\n",
    "# plt.xlabel(\"\")\n",
    "# ax.figure.savefig(\"label_count.jpeg\", bbox_inches=\"tight\", dpi=1200)"
   ]
  }
 ],
 "metadata": {
  "kernelspec": {
   "display_name": "Python 3.10.4 64-bit",
   "language": "python",
   "name": "python3"
  },
  "language_info": {
   "codemirror_mode": {
    "name": "ipython",
    "version": 3
   },
   "file_extension": ".py",
   "mimetype": "text/x-python",
   "name": "python",
   "nbconvert_exporter": "python",
   "pygments_lexer": "ipython3",
   "version": "3.10.4"
  },
  "orig_nbformat": 4,
  "vscode": {
   "interpreter": {
    "hash": "91e32b75ecf3080d170411cb1649c483b59a4efe3288a5b0a9b6b201a0b09750"
   }
  }
 },
 "nbformat": 4,
 "nbformat_minor": 2
}
