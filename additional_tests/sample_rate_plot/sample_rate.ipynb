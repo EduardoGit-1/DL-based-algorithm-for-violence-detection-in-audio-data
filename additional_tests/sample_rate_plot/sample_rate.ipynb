{
 "cells": [
  {
   "cell_type": "code",
   "execution_count": 1,
   "metadata": {},
   "outputs": [
    {
     "name": "stdout",
     "output_type": "stream",
     "text": [
      "D:\\Projects\\shared_repo\\data_understanding\\audio_files\\sample_rate\\results\\sr_dataset.csv\n"
     ]
    }
   ],
   "source": [
    "import pandas as pd\n",
    "import numpy as np\n",
    "import matplotlib.pyplot as plt\n",
    "from sklearn.model_selection import train_test_split\n",
    "plt.rcParams[\"figure.figsize\"] = (20,10)\n",
    "plt.rcParams[\"font.family\"] = \"sans-serif\"\n",
    "DATASET_DIR = r\"D:\\Projects\\shared_repo\\data_understanding\\audio_files\\sample_rate\\results\\sr_dataset.csv\"\n",
    "print(DATASET_DIR)"
   ]
  },
  {
   "cell_type": "code",
   "execution_count": 2,
   "metadata": {},
   "outputs": [
    {
     "data": {
      "text/html": [
       "<div>\n",
       "<style scoped>\n",
       "    .dataframe tbody tr th:only-of-type {\n",
       "        vertical-align: middle;\n",
       "    }\n",
       "\n",
       "    .dataframe tbody tr th {\n",
       "        vertical-align: top;\n",
       "    }\n",
       "\n",
       "    .dataframe thead th {\n",
       "        text-align: right;\n",
       "    }\n",
       "</style>\n",
       "<table border=\"1\" class=\"dataframe\">\n",
       "  <thead>\n",
       "    <tr style=\"text-align: right;\">\n",
       "      <th></th>\n",
       "      <th>Unnamed: 0</th>\n",
       "      <th>File_path</th>\n",
       "      <th>Sample_Rate</th>\n",
       "      <th>Duration</th>\n",
       "    </tr>\n",
       "  </thead>\n",
       "  <tbody>\n",
       "    <tr>\n",
       "      <th>0</th>\n",
       "      <td>0</td>\n",
       "      <td>/mnt/datasets_old/av/dataset_main/Hanau02/i3/H...</td>\n",
       "      <td>44100</td>\n",
       "      <td>45.583673</td>\n",
       "    </tr>\n",
       "    <tr>\n",
       "      <th>1</th>\n",
       "      <td>0</td>\n",
       "      <td>/mnt/datasets_old/av/dataset_main/Hanau02/i3/H...</td>\n",
       "      <td>44100</td>\n",
       "      <td>36.153469</td>\n",
       "    </tr>\n",
       "    <tr>\n",
       "      <th>2</th>\n",
       "      <td>0</td>\n",
       "      <td>/mnt/datasets_old/av/dataset_main/Hanau02/i3/H...</td>\n",
       "      <td>44100</td>\n",
       "      <td>27.350204</td>\n",
       "    </tr>\n",
       "    <tr>\n",
       "      <th>3</th>\n",
       "      <td>0</td>\n",
       "      <td>/mnt/datasets_old/av/dataset_main/Hanau02/i3/H...</td>\n",
       "      <td>44100</td>\n",
       "      <td>31.137959</td>\n",
       "    </tr>\n",
       "    <tr>\n",
       "      <th>4</th>\n",
       "      <td>0</td>\n",
       "      <td>/mnt/datasets_old/av/dataset_main/Hanau02/i3/H...</td>\n",
       "      <td>44100</td>\n",
       "      <td>30.772245</td>\n",
       "    </tr>\n",
       "    <tr>\n",
       "      <th>...</th>\n",
       "      <td>...</td>\n",
       "      <td>...</td>\n",
       "      <td>...</td>\n",
       "      <td>...</td>\n",
       "    </tr>\n",
       "    <tr>\n",
       "      <th>2164</th>\n",
       "      <td>0</td>\n",
       "      <td>/mnt/datasets_old/av/dataset_main/Hanau03/Vito...</td>\n",
       "      <td>48000</td>\n",
       "      <td>126.310000</td>\n",
       "    </tr>\n",
       "    <tr>\n",
       "      <th>2165</th>\n",
       "      <td>0</td>\n",
       "      <td>/mnt/datasets_old/av/dataset_main/Hanau03/Vito...</td>\n",
       "      <td>48000</td>\n",
       "      <td>105.050000</td>\n",
       "    </tr>\n",
       "    <tr>\n",
       "      <th>2166</th>\n",
       "      <td>0</td>\n",
       "      <td>/mnt/datasets_old/av/dataset_main/Hanau03/Vito...</td>\n",
       "      <td>48000</td>\n",
       "      <td>97.840000</td>\n",
       "    </tr>\n",
       "    <tr>\n",
       "      <th>2167</th>\n",
       "      <td>0</td>\n",
       "      <td>/mnt/datasets_old/av/dataset_main/Hanau03/Vito...</td>\n",
       "      <td>48000</td>\n",
       "      <td>91.990000</td>\n",
       "    </tr>\n",
       "    <tr>\n",
       "      <th>2168</th>\n",
       "      <td>0</td>\n",
       "      <td>/mnt/datasets_old/av/dataset_main/Hanau03/Vito...</td>\n",
       "      <td>48000</td>\n",
       "      <td>80.040000</td>\n",
       "    </tr>\n",
       "  </tbody>\n",
       "</table>\n",
       "<p>2169 rows × 4 columns</p>\n",
       "</div>"
      ],
      "text/plain": [
       "      Unnamed: 0                                          File_path  \\\n",
       "0              0  /mnt/datasets_old/av/dataset_main/Hanau02/i3/H...   \n",
       "1              0  /mnt/datasets_old/av/dataset_main/Hanau02/i3/H...   \n",
       "2              0  /mnt/datasets_old/av/dataset_main/Hanau02/i3/H...   \n",
       "3              0  /mnt/datasets_old/av/dataset_main/Hanau02/i3/H...   \n",
       "4              0  /mnt/datasets_old/av/dataset_main/Hanau02/i3/H...   \n",
       "...          ...                                                ...   \n",
       "2164           0  /mnt/datasets_old/av/dataset_main/Hanau03/Vito...   \n",
       "2165           0  /mnt/datasets_old/av/dataset_main/Hanau03/Vito...   \n",
       "2166           0  /mnt/datasets_old/av/dataset_main/Hanau03/Vito...   \n",
       "2167           0  /mnt/datasets_old/av/dataset_main/Hanau03/Vito...   \n",
       "2168           0  /mnt/datasets_old/av/dataset_main/Hanau03/Vito...   \n",
       "\n",
       "     Sample_Rate    Duration  \n",
       "0          44100   45.583673  \n",
       "1          44100   36.153469  \n",
       "2          44100   27.350204  \n",
       "3          44100   31.137959  \n",
       "4          44100   30.772245  \n",
       "...          ...         ...  \n",
       "2164       48000  126.310000  \n",
       "2165       48000  105.050000  \n",
       "2166       48000   97.840000  \n",
       "2167       48000   91.990000  \n",
       "2168       48000   80.040000  \n",
       "\n",
       "[2169 rows x 4 columns]"
      ]
     },
     "execution_count": 2,
     "metadata": {},
     "output_type": "execute_result"
    }
   ],
   "source": [
    "df = pd.read_csv(DATASET_DIR)\n",
    "df.loc[df[\"Sample_Rate\"] == \"44100.0\", \"Sample_Rate\"] = \"44100\"\n",
    "df"
   ]
  },
  {
   "cell_type": "code",
   "execution_count": 8,
   "metadata": {},
   "outputs": [
    {
     "data": {
      "text/plain": [
       "51.909247474174855"
      ]
     },
     "execution_count": 8,
     "metadata": {},
     "output_type": "execute_result"
    }
   ],
   "source": [
    "df.Duration.sum() / 60 / 60"
   ]
  },
  {
   "cell_type": "code",
   "execution_count": 3,
   "metadata": {},
   "outputs": [
    {
     "data": {
      "image/png": "[encoded data removed]",
      "text/plain": [
       "<Figure size 1440x720 with 1 Axes>"
      ]
     },
     "metadata": {
      "needs_background": "light"
     },
     "output_type": "display_data"
    }
   ],
   "source": [
    "ax = df.Sample_Rate.value_counts().sort_values().plot(kind = 'bar')\n",
    "ax.spines['top'].set_visible(False)\n",
    "ax.spines['right'].set_visible(False)\n",
    "ax.spines['left'].set_visible(False)\n",
    "ax.spines['bottom'].set_color('#DDDDDD')\n",
    "\n",
    "ax.tick_params(bottom=False, left=False)\n",
    "\n",
    "ax.set_axisbelow(True)\n",
    "ax.yaxis.grid(True, color='#EEEEEE')\n",
    "ax.xaxis.grid(False)\n",
    "ax.set_title('WAV files SR', fontsize=25)\n",
    "ax.set_ylabel('Count', fontsize=18)\n",
    "plt.xticks(rotation=0, fontsize = 18)\n",
    "plt.xlabel(\"\")\n",
    "ax.figure.savefig(\"sample_rate.jpeg\", bbox_inches=\"tight\")"
   ]
  },
  {
   "cell_type": "code",
   "execution_count": 4,
   "metadata": {},
   "outputs": [],
   "source": [
    "# ax = df.Label.value_counts().sort_values().plot(kind = 'bar')\n",
    "# ax.spines['top'].set_visible(False)\n",
    "# ax.spines['right'].set_visible(False)\n",
    "# ax.spines['left'].set_visible(False)\n",
    "# ax.spines['bottom'].set_color('#DDDDDD')\n",
    "\n",
    "# ax.tick_params(bottom=False, left=False)\n",
    "\n",
    "# ax.set_axisbelow(True)\n",
    "# ax.yaxis.grid(True, color='#EEEEEE')\n",
    "# ax.xaxis.grid(False)\n",
    "# ax.set_title('Label distribution', fontsize=25)\n",
    "# ax.set_ylabel('Label count', fontsize=18)\n",
    "# plt.xticks(rotation=0, fontsize = 18)\n",
    "# plt.xlabel(\"\")\n",
    "# ax.figure.savefig(\"label_count.jpeg\", bbox_inches=\"tight\", dpi=1200)"
   ]
  }
 ],
 "metadata": {
  "kernelspec": {
   "display_name": "Python 3.10.4 64-bit",
   "language": "python",
   "name": "python3"
  },
  "language_info": {
   "codemirror_mode": {
    "name": "ipython",
    "version": 3
   },
   "file_extension": ".py",
   "mimetype": "text/x-python",
   "name": "python",
   "nbconvert_exporter": "python",
   "pygments_lexer": "ipython3",
   "version": "3.10.4"
  },
  "orig_nbformat": 4,
  "vscode": {
   "interpreter": {
    "hash": "91e32b75ecf3080d170411cb1649c483b59a4efe3288a5b0a9b6b201a0b09750"
   }
  }
 },
 "nbformat": 4,
 "nbformat_minor": 2
}
